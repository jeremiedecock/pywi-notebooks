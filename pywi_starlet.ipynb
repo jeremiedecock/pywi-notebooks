{
 "cells": [
  {
   "cell_type": "markdown",
   "metadata": {},
   "source": [
    "# PyWI Demo Notebook"
   ]
  },
  {
   "cell_type": "code",
   "execution_count": null,
   "metadata": {},
   "outputs": [],
   "source": [
    "import pywi\n",
    "from pywi.processing.transform import starlet\n",
    "\n",
    "print(pywi.__version__)"
   ]
  },
  {
   "cell_type": "code",
   "execution_count": null,
   "metadata": {},
   "outputs": [],
   "source": [
    "# Get an image\n",
    "\n",
    "#import scipy.misc\n",
    "import skimage.data\n",
    "\n",
    "#img = scipy.misc.ascent()\n",
    "img = skimage.data.astronaut()\n",
    "\n",
    "img = skimage.color.rgb2gray(img)\n",
    "\n",
    "\n",
    "# Plot the original image\n",
    "\n",
    "fig, ax = plt.subplots(figsize=(14, 14))\n",
    "ax.imshow(img, cmap=\"gray\")\n",
    "plt.show()\n",
    "\n",
    "\n",
    "# Compute the wavelet transform\n",
    "\n",
    "wt_imgs = starlet.wavelet_transform(img, number_of_scales=4)\n",
    "\n",
    "\n",
    "# Plot the wavelet transform coefficients\n",
    "\n",
    "fig, ((ax1, ax2), (ax3, ax4)) = plt.subplots(nrows=2, ncols=2, figsize=(14, 14))\n",
    "\n",
    "ax1.imshow(wt_imgs[0], cmap=\"gray\")\n",
    "ax2.imshow(wt_imgs[1], cmap=\"gray\")\n",
    "ax3.imshow(wt_imgs[2], cmap=\"gray\")\n",
    "ax4.imshow(wt_imgs[3], cmap=\"gray\")\n",
    "\n",
    "plt.tight_layout()\n",
    "\n",
    "plt.show()"
   ]
  },
  {
   "cell_type": "code",
   "execution_count": null,
   "metadata": {},
   "outputs": [],
   "source": [
    "fig, ax = plt.subplots(figsize=(14, 8))\n",
    "ax.hist(img.flatten(), bins=50)\n",
    "plt.show()\n",
    "\n",
    "fig, ((ax1, ax2), (ax3, ax4)) = plt.subplots(nrows=2, ncols=2, figsize=(14, 8))\n",
    "    \n",
    "ax1.hist(wt_imgs[0].flatten(), bins=50)\n",
    "ax2.hist(wt_imgs[1].flatten(), bins=50)\n",
    "ax3.hist(wt_imgs[2].flatten(), bins=50)\n",
    "ax4.hist(wt_imgs[3].flatten(), bins=50)\n",
    "\n",
    "plt.show()"
   ]
  },
  {
   "cell_type": "code",
   "execution_count": null,
   "metadata": {},
   "outputs": [],
   "source": [
    "for i in range(len(wt_imgs)):\n",
    "    print(\"scale\", i, \":\", wt_imgs[i].flatten().sum())"
   ]
  }
 ],
 "metadata": {
  "kernelspec": {
   "display_name": "Python 3",
   "language": "python",
   "name": "python3"
  },
  "language_info": {
   "codemirror_mode": {
    "name": "ipython",
    "version": 3
   },
   "file_extension": ".py",
   "mimetype": "text/x-python",
   "name": "python",
   "nbconvert_exporter": "python",
   "pygments_lexer": "ipython3",
   "version": "3.6.6"
  }
 },
 "nbformat": 4,
 "nbformat_minor": 2
}
